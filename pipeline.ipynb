{
 "cells": [
  {
   "cell_type": "code",
   "execution_count": 21,
   "metadata": {},
   "outputs": [],
   "source": [
    "from typing import List, TypedDict, Annotated, Literal\n",
    "from dotenv import load_dotenv\n",
    "import operator\n",
    "import json\n",
    "import os\n",
    "\n",
    "from langchain_google_genai import ChatGoogleGenerativeAI\n",
    "from langgraph.graph import StateGraph, START, END\n",
    "from langgraph.graph.message import add_messages\n",
    "from pydantic import BaseModel\n",
    "from langchain.schema import HumanMessage, AIMessage\n",
    "\n",
    "from src.nodes import *\n",
    "from src.state import State\n",
    "from src.util import next_node"
   ]
  },
  {
   "cell_type": "code",
   "execution_count": 23,
   "metadata": {},
   "outputs": [],
   "source": [
    "load_dotenv()\n",
    "os.environ[\"GOOGLE_API_KEY\"] = os.getenv(\"GEMINI_API_KEY\")\n",
    "# print(os.environ[\"GOOGLE_API_KEY\"])"
   ]
  },
  {
   "cell_type": "code",
   "execution_count": 26,
   "metadata": {},
   "outputs": [],
   "source": [
    "gemini = ChatGoogleGenerativeAI(model=\"gemini-2.0-flash-exp\", temperature=0.7)\n",
    "evaluator = ChatGoogleGenerativeAI(model=\"gemini-2.0-flash-exp\", temperature=0.3)"
   ]
  },
  {
   "cell_type": "code",
   "execution_count": 28,
   "metadata": {},
   "outputs": [],
   "source": [
    "# Config\n",
    "max_iterations = 5"
   ]
  },
  {
   "cell_type": "code",
   "execution_count": 29,
   "metadata": {},
   "outputs": [],
   "source": [
    "builder = StateGraph(State)\n",
    "\n",
    "nodes = {\n",
    "    \"Supervisor\": Supervisor(),\n",
    "    \"Agent1\": Agent(\"Agent 1 - Impact\", gemini),\n",
    "    \"Evaluator\": Evaluator(evaluator),\n",
    "    \"loop_control\": LoopControlNode(max_iterations),\n",
    "}"
   ]
  },
  {
   "cell_type": "code",
   "execution_count": 30,
   "metadata": {},
   "outputs": [],
   "source": [
    "for name, node in nodes.items():\n",
    "    builder.add_node(name, node)"
   ]
  },
  {
   "cell_type": "code",
   "execution_count": null,
   "metadata": {},
   "outputs": [],
   "source": [
    "# Define the flow\n",
    "builder.add_edge(START, \"supervisor\")\n",
    "\n",
    "# Edges from Supervisor to Agents\n",
    "builder.add_edge(\"Supervisor\", \"Agent1\")\n",
    "\n",
    "# Edges from Agents to Reviewer\n",
    "builder.add_edge(\"Agent1\", \"Evaluator\")\n",
    "\n",
    "# From Reviewer to Loop Control Node\n",
    "builder.add_edge(\"Evaluator\", \"loop_control\")"
   ]
  }
 ],
 "metadata": {
  "kernelspec": {
   "display_name": "resume",
   "language": "python",
   "name": "python3"
  },
  "language_info": {
   "codemirror_mode": {
    "name": "ipython",
    "version": 3
   },
   "file_extension": ".py",
   "mimetype": "text/x-python",
   "name": "python",
   "nbconvert_exporter": "python",
   "pygments_lexer": "ipython3",
   "version": "3.12.3"
  }
 },
 "nbformat": 4,
 "nbformat_minor": 2
}
